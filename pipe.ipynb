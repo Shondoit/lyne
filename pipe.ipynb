{
 "cells": [
  {
   "cell_type": "code",
   "execution_count": null,
   "id": "15d7eb61-9b0f-4483-83e1-a9ca3da70e2d",
   "metadata": {
    "tags": []
   },
   "outputs": [],
   "source": [
    "from lyne import *\n",
    "from lyne.clip import *\n",
    "\n",
    "target_size = (768, 768)\n",
    "min_face_strength = 10\n",
    "\n",
    "pipe = (\n",
    "    list_dir.using(I.source_dir)\n",
    "    | open_image\n",
    "        | cond_size(I.image, min_size=target_size)\n",
    "    | calc_focus\n",
    "        | Cond(I.focus < 70, 'focus')\n",
    "    | calc_lightness\n",
    "        | Cond(I.lightness < 50, 'too_dark')\n",
    "        | Cond(I.lightness > 205, 'too_bright')\n",
    "    | calc_collage\n",
    "        | Cond(I.collage >= 200, 'collage')\n",
    "\n",
    "    | generate_attention('a photo of a face')\n",
    "        | Cond(I.attention.max() <= 0, 'no_face')\n",
    "        | scale_array(I.attention, (0, 10%Rel.pos), (0, 255), clip=True) >> I.attention\n",
    "        | Cond(I.attention.mean() < min_face_strength, 'small_face')\n",
    "        | get_mask_bbox(I.attention, padding=20)\n",
    "        | scale_bbox(target_size)\n",
    "        | crop_image(I.bbox)\n",
    "        | resize_image(target_size)\n",
    "\n",
    "    | generate_attention('a photo of multiple people')\n",
    "        | Cond(I.attention.max() > 0, 'multi_people')\n",
    "\n",
    "    | generate_attention('a photo of a person')\n",
    "        | Cond(I.attention.max() <= 0, 'no_person')\n",
    "        | scale_array(I.attention, (0, 10%Rel.pos), (0, 255), clip=True) >> I.attention\n",
    "        | add_alpha_channel(I.attention)\n",
    "    \n",
    "    | change_dir.all.using(I.path, I.target_dir)\n",
    "    | change_ext.all.using(I.path, I.target_ext)\n",
    "    | save_skipped_image\n",
    "    \n",
    "    | purge_skipped\n",
    "    | save_image\n",
    ")\n",
    "\n",
    "base_dir = r\"D:\\SD\\training\\Subject\"\n",
    "item = Item(\n",
    "    source_dir=fr\"{base_dir}\\orig\",\n",
    "    target_dir=fr\"{base_dir}\\raw\",\n",
    "    target_ext='.png',\n",
    ")\n",
    "results = pipe.process(item)\n",
    "list(results)"
   ]
  }
 ],
 "metadata": {
  "kernelspec": {
   "display_name": "Python 3 (ipykernel)",
   "language": "python",
   "name": "python3"
  },
  "language_info": {
   "codemirror_mode": {
    "name": "ipython",
    "version": 3
   },
   "file_extension": ".py",
   "mimetype": "text/x-python",
   "name": "python",
   "nbconvert_exporter": "python",
   "pygments_lexer": "ipython3",
   "version": "3.10.9"
  }
 },
 "nbformat": 4,
 "nbformat_minor": 5
}
